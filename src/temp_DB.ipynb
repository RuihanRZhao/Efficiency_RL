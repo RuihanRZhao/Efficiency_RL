{
 "cells": [
  {
   "cell_type": "code",
   "execution_count": 1,
   "outputs": [
    {
     "name": "stdout",
     "output_type": "stream",
     "text": [
      "Initialize global value...\n",
      "Initialize global value.... Done\n",
      "Initialize Database...\n",
      "Initialize Database........ Done\n",
      "Initialize global value...\n",
      "Initialize global value.... Done\n",
      "Initialize Database...\n",
      "Initialize Database........ Done\n",
      "([[100001, 36, 50, 14.31, 4.31], [100002, 36, 50, 10.42, -1.58], [100003, 38, 50, 34.53, 10.53], [100004, 44, 50, 3.12, -1.88], [100005, 41, 50, 75.11, 13.11], [100006, 38, 50, 19.1, -10.9], [100007, 40, 50, 8.47, -4.53], [100008, 1, 50, 121.23, -48.77]], [[100005, 100001, 1.0], [100005, 100002, 1.33], [100005, 100006, -1.0], [100005, 100003, 2.0], [100004, 100001, 2.0], [100004, 100002, 2.0], [100004, 100003, -1.0], [100007, 100006, 2.0], [100007, 100004, 1.0], [100007, 100003, 0.0], [100008, 100007, 2.0], [100008, 100005, 2.0]])\n",
      "[[0, 0, 0, 0, 0, 0, 0, 0], [0, 0, 0, 0, 0, 0, 0, 0], [0, 0, 0, 0, 0, 0, 0, 0]]\n"
     ]
    }
   ],
   "source": [
    "import game.factory as fac\n",
    "\n",
    "print(fac.get_environment(1))\n",
    "print(fac.take_action([\n",
    "    [40, 40, 40, 40, 40, 40, 40, 0],\n",
    "    [1, 2, 1, 1, 0, 0, 0, 0],\n",
    "    [1, 1, 1, 1, 1, 1, 1, 1]\n",
    "],1))"
   ],
   "metadata": {
    "collapsed": false,
    "ExecuteTime": {
     "end_time": "2023-08-10T08:25:34.753593Z",
     "start_time": "2023-08-10T08:25:34.282253400Z"
    }
   },
   "id": "5b4fc2e872d8878"
  },
  {
   "cell_type": "code",
   "execution_count": 1,
   "outputs": [],
   "source": [],
   "metadata": {
    "collapsed": false,
    "ExecuteTime": {
     "end_time": "2023-08-10T08:25:34.754109600Z",
     "start_time": "2023-08-10T08:25:34.752042700Z"
    }
   },
   "id": "637d73a3f71c10e5"
  }
 ],
 "metadata": {
  "kernelspec": {
   "display_name": "Python 3",
   "language": "python",
   "name": "python3"
  },
  "language_info": {
   "codemirror_mode": {
    "name": "ipython",
    "version": 2
   },
   "file_extension": ".py",
   "mimetype": "text/x-python",
   "name": "python",
   "nbconvert_exporter": "python",
   "pygments_lexer": "ipython2",
   "version": "2.7.6"
  }
 },
 "nbformat": 4,
 "nbformat_minor": 5
}
