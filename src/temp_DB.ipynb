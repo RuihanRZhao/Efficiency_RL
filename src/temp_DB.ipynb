{
 "cells": [
  {
   "cell_type": "code",
   "execution_count": 1,
   "outputs": [
    {
     "data": {
      "text/plain": "8"
     },
     "execution_count": 1,
     "metadata": {},
     "output_type": "execute_result"
    }
   ],
   "source": [
    "import game.factory as fac\n",
    "\n",
    "len(fac.Material_List)\n"
   ],
   "metadata": {
    "collapsed": false,
    "ExecuteTime": {
     "end_time": "2023-08-11T07:48:28.311362400Z",
     "start_time": "2023-08-11T07:48:27.786183900Z"
    }
   },
   "id": "5b4fc2e872d8878"
  },
  {
   "cell_type": "code",
   "execution_count": 2,
   "outputs": [
    {
     "name": "stdout",
     "output_type": "stream",
     "text": [
      "Sampled Action Index: 0\n"
     ]
    }
   ],
   "source": [
    "import torch\n",
    "\n",
    "# Simulated action probabilities (replace this with your actual action_PROB tensor)\n",
    "action_PROB = torch.tensor([0.2, 0.3, 0.5])\n",
    "\n",
    "# Sampling an action index based on the action probabilities\n",
    "action_index = torch.multinomial(action_PROB, 1).item()\n",
    "\n",
    "print(\"Sampled Action Index:\", action_index)\n"
   ],
   "metadata": {
    "collapsed": false,
    "ExecuteTime": {
     "end_time": "2023-08-11T08:07:48.745352Z",
     "start_time": "2023-08-11T08:07:46.863987500Z"
    }
   },
   "id": "e371230cde07e687"
  },
  {
   "cell_type": "code",
   "execution_count": 4,
   "outputs": [
    {
     "name": "stdout",
     "output_type": "stream",
     "text": [
      "Random Indices:\n",
      " tensor([[ 6,  8,  8,  5,  7,  5,  6,  4,  9, 10,  7,  4],\n",
      "        [ 5,  0,  7,  2, 11,  5,  1,  3,  8,  4,  1,  7],\n",
      "        [ 4,  0,  0,  8,  7,  7,  9,  8,  5,  9,  7,  0]])\n"
     ]
    }
   ],
   "source": [
    "import torch\n",
    "\n",
    "# Simulated action_prob matrix (replace this with your actual action_prob tensor)\n",
    "action_prob = torch.tensor([[0.1, 0.3, 0.6, 0.2, 0.5, 0.7, 0.4, 0.8, 0.9, 0.2, 0.4, 0.6],\n",
    "                            [0.4, 0.2, 0.5, 0.3, 0.7, 0.1, 0.6, 0.9, 0.8, 0.3, 0.2, 0.5],\n",
    "                            [0.3, 0.6, 0.1, 0.8, 0.4, 0.9, 0.2, 0.5, 0.7, 0.6, 0.3, 0.1]])\n",
    "\n",
    "# Generating random indices based on the action probabilities\n",
    "random_indices = torch.multinomial(action_prob, 12, replacement=True)\n",
    "\n",
    "print(\"Random Indices:\\n\", random_indices)\n"
   ],
   "metadata": {
    "collapsed": false,
    "ExecuteTime": {
     "end_time": "2023-08-11T08:11:42.393281700Z",
     "start_time": "2023-08-11T08:11:42.382061800Z"
    }
   },
   "id": "e1a293f0c48888df"
  },
  {
   "cell_type": "code",
   "execution_count": null,
   "outputs": [],
   "source": [],
   "metadata": {
    "collapsed": false
   },
   "id": "12423f1630588dc0"
  }
 ],
 "metadata": {
  "kernelspec": {
   "display_name": "Python 3",
   "language": "python",
   "name": "python3"
  },
  "language_info": {
   "codemirror_mode": {
    "name": "ipython",
    "version": 2
   },
   "file_extension": ".py",
   "mimetype": "text/x-python",
   "name": "python",
   "nbconvert_exporter": "python",
   "pygments_lexer": "ipython2",
   "version": "2.7.6"
  }
 },
 "nbformat": 4,
 "nbformat_minor": 5
}
