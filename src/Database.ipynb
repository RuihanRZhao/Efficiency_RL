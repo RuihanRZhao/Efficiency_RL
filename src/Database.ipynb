{
 "cells": [
  {
   "cell_type": "code",
   "execution_count": 71,
   "id": "initial_id",
   "metadata": {
    "collapsed": true,
    "ExecuteTime": {
     "end_time": "2023-08-31T07:54:43.756399Z",
     "start_time": "2023-08-31T07:54:43.754505Z"
    }
   },
   "outputs": [],
   "source": [
    "import pymysql"
   ]
  },
  {
   "cell_type": "code",
   "execution_count": 72,
   "outputs": [],
   "source": [
    "host = \"127.0.0.1\"\n",
    "user = \"root\"\n",
    "password = \"1919810\"\n",
    "port = 114"
   ],
   "metadata": {
    "collapsed": false,
    "ExecuteTime": {
     "end_time": "2023-08-31T07:54:44.124085Z",
     "start_time": "2023-08-31T07:54:44.120374Z"
    }
   },
   "id": "eaf92346ce127ace"
  },
  {
   "cell_type": "code",
   "execution_count": 73,
   "outputs": [],
   "source": [
    "DB_server = pymysql.connect(\n",
    "            host=host,\n",
    "            user=user,\n",
    "            passwd=password,\n",
    "            port=port,\n",
    "        )\n",
    "cursor = DB_server.cursor()"
   ],
   "metadata": {
    "collapsed": false,
    "ExecuteTime": {
     "end_time": "2023-08-31T07:54:44.555481Z",
     "start_time": "2023-08-31T07:54:44.504473Z"
    }
   },
   "id": "b45d907ff0e5b2d0"
  },
  {
   "cell_type": "code",
   "execution_count": 74,
   "outputs": [
    {
     "data": {
      "text/plain": "0"
     },
     "execution_count": 74,
     "metadata": {},
     "output_type": "execute_result"
    }
   ],
   "source": [
    "cursor.execute(f\"drop database if exists Factory;\")\n",
    "cursor.execute(f\"create database if not exists Factory;\")\n",
    "cursor.execute(f\"use Factory;\")\n",
    "cursor.execute(f\"drop table if exists Factory.Material;\")\n",
    "cursor.execute(f\"create table if not exists Factory.Material(\"\n",
    "               f\"    un_id           varchar(255)    primary key     unique,\"\n",
    "               f\"    name            varchar(255),\"\n",
    "               f\"    inventory       int,\"\n",
    "               f\"    inventory_cap   int,\"\n",
    "               f\"    cache           int,\"\n",
    "               f\"    cache_cap       int\"\n",
    "               f\");\")\n",
    "\n",
    "\n",
    "cursor.execute(f\"drop table if exists Factory.Price;\")\n",
    "cursor.execute(\n",
    "    f\"create table if not exists Factory.Price(\"\n",
    "    f\"    un_id           varchar(255),\"\n",
    "    f\"    date            datetime,\"\n",
    "    f\"    price           float\"\n",
    "    f\");\"\n",
    ")\n",
    "cursor.execute(f\"drop table if exists Factory.Producer;\")\n",
    "cursor.execute(\n",
    "    f\"create table if not exists Factory.Producer(\"\n",
    "    f\"    un_id               varchar(255)      primary key     unique,\"\n",
    "    f\"    Material_id         varchar(255),\"\n",
    "    f\"    Material_amount     int,\"\n",
    "    f\"    daily_low_cost      float,\"\n",
    "    f\"    daily_produce_cap   int\"\n",
    "    f\");\"\n",
    ")"
   ],
   "metadata": {
    "collapsed": false,
    "ExecuteTime": {
     "end_time": "2023-08-31T07:54:45.159236Z",
     "start_time": "2023-08-31T07:54:45.063662Z"
    }
   },
   "id": "ded365061c7d1ea6"
  },
  {
   "cell_type": "code",
   "execution_count": null,
   "outputs": [],
   "source": [],
   "metadata": {
    "collapsed": false,
    "ExecuteTime": {
     "start_time": "2023-08-31T07:11:30.556480Z"
    }
   },
   "id": "d9b2b9ef74636984"
  }
 ],
 "metadata": {
  "kernelspec": {
   "display_name": "Python 3",
   "language": "python",
   "name": "python3"
  },
  "language_info": {
   "codemirror_mode": {
    "name": "ipython",
    "version": 2
   },
   "file_extension": ".py",
   "mimetype": "text/x-python",
   "name": "python",
   "nbconvert_exporter": "python",
   "pygments_lexer": "ipython2",
   "version": "2.7.6"
  }
 },
 "nbformat": 4,
 "nbformat_minor": 5
}
