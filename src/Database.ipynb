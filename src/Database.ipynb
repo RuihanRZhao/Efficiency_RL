{
 "cells": [
  {
   "cell_type": "markdown",
   "source": [],
   "metadata": {
    "collapsed": false
   },
   "id": "9da1f47698fc68de"
  },
  {
   "cell_type": "code",
   "execution_count": 11,
   "id": "initial_id",
   "metadata": {
    "collapsed": true,
    "ExecuteTime": {
     "end_time": "2023-09-08T08:57:54.997826Z",
     "start_time": "2023-09-08T08:57:54.990739Z"
    }
   },
   "outputs": [],
   "source": [
    "import pymysql"
   ]
  },
  {
   "cell_type": "code",
   "execution_count": 12,
   "outputs": [],
   "source": [
    "host = \"127.0.0.1\"\n",
    "user = \"root\"\n",
    "password = \"114514\"\n",
    "port = 114"
   ],
   "metadata": {
    "collapsed": false,
    "ExecuteTime": {
     "end_time": "2023-09-08T08:57:55.188549Z",
     "start_time": "2023-09-08T08:57:55.185647Z"
    }
   },
   "id": "eaf92346ce127ace"
  },
  {
   "cell_type": "code",
   "execution_count": 13,
   "outputs": [],
   "source": [
    "DB_server = pymysql.connect(\n",
    "            host=host,\n",
    "            user=user,\n",
    "            passwd=password,\n",
    "            port=port,\n",
    "        )\n",
    "cursor = DB_server.cursor()"
   ],
   "metadata": {
    "collapsed": false,
    "ExecuteTime": {
     "end_time": "2023-09-08T08:57:55.346983Z",
     "start_time": "2023-09-08T08:57:55.335099Z"
    }
   },
   "id": "b45d907ff0e5b2d0"
  },
  {
   "cell_type": "code",
   "execution_count": 14,
   "outputs": [
    {
     "data": {
      "text/plain": "0"
     },
     "execution_count": 14,
     "metadata": {},
     "output_type": "execute_result"
    }
   ],
   "source": [
    "cursor.execute(f\"drop database if exists Factory;\")\n",
    "cursor.execute(f\"create database if not exists Factory;\")\n",
    "cursor.execute(f\"use Factory;\")\n",
    "cursor.execute(f\"drop table if exists Factory.Material;\")\n",
    "cursor.execute(f\"create table if not exists Factory.Material(\"\n",
    "               f\"    un_id           varchar(255)    primary key     unique,\"\n",
    "               f\"    name            varchar(255),\"\n",
    "               f\"    inventory       float,\"\n",
    "               f\"    inventory_cap   int,\"\n",
    "               f\"    cache           float,\"\n",
    "               f\"    cache_cap       int,\"\n",
    "               f\"    purchase_permit bool,\"\n",
    "               f\"    sale_permit     bool\"\n",
    "               f\");\")\n",
    "\n",
    "\n",
    "cursor.execute(f\"drop table if exists Factory.Price;\")\n",
    "cursor.execute(\n",
    "    f\"create table if not exists Factory.Price(\"\n",
    "    f\"    `index` int auto_increment primary key,\"\n",
    "    f\"    un_id           varchar(255),\"\n",
    "    f\"    date            datetime,\"\n",
    "    f\"    price           float\"\n",
    "    f\");\"\n",
    ")\n",
    "cursor.execute(f\"drop table if exists Factory.Producer;\")\n",
    "cursor.execute(\n",
    "    f\"create table if not exists Factory.Producer(\"\n",
    "    f\"    un_id               varchar(255),\"\n",
    "    f\"    Material_id         varchar(255),\"\n",
    "    f\"    Material_amount     float,\"\n",
    "    f\"    daily_low_cost      float,\"\n",
    "    f\"    daily_produce_cap   float\"\n",
    "    f\");\"\n",
    ")"
   ],
   "metadata": {
    "collapsed": false,
    "ExecuteTime": {
     "end_time": "2023-09-08T08:57:55.598724Z",
     "start_time": "2023-09-08T08:57:55.480780Z"
    }
   },
   "id": "ded365061c7d1ea6"
  },
  {
   "cell_type": "markdown",
   "source": [
    "Sphinx commands"
   ],
   "metadata": {
    "collapsed": false
   },
   "id": "8970d5110601b642"
  },
  {
   "cell_type": "code",
   "execution_count": 1,
   "outputs": [],
   "source": [
    "!sphinx-apidoc -o ../documentation/source ."
   ],
   "metadata": {
    "collapsed": false,
    "ExecuteTime": {
     "end_time": "2023-09-06T02:06:03.882942Z",
     "start_time": "2023-09-06T02:06:03.053452Z"
    }
   },
   "id": "49c950c21b66c2c4"
  },
  {
   "cell_type": "markdown",
   "source": [],
   "metadata": {
    "collapsed": false
   },
   "id": "7f50691fea8fcc1c"
  },
  {
   "cell_type": "code",
   "execution_count": null,
   "outputs": [],
   "source": [],
   "metadata": {
    "collapsed": false
   },
   "id": "cf336afbfd3c01e0"
  }
 ],
 "metadata": {
  "kernelspec": {
   "display_name": "Python 3",
   "language": "python",
   "name": "python3"
  },
  "language_info": {
   "codemirror_mode": {
    "name": "ipython",
    "version": 2
   },
   "file_extension": ".py",
   "mimetype": "text/x-python",
   "name": "python",
   "nbconvert_exporter": "python",
   "pygments_lexer": "ipython2",
   "version": "2.7.6"
  }
 },
 "nbformat": 4,
 "nbformat_minor": 5
}
