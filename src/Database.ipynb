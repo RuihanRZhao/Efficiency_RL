{
 "cells": [
  {
   "cell_type": "code",
   "execution_count": 9,
   "id": "initial_id",
   "metadata": {
    "collapsed": true,
    "ExecuteTime": {
     "end_time": "2023-09-04T07:46:59.218900Z",
     "start_time": "2023-09-04T07:46:59.163840Z"
    }
   },
   "outputs": [],
   "source": [
    "import pymysql"
   ]
  },
  {
   "cell_type": "code",
   "execution_count": 10,
   "outputs": [],
   "source": [
    "host = \"127.0.0.1\"\n",
    "user = \"reader\"\n",
    "password = \"114514\"\n",
    "port = 114"
   ],
   "metadata": {
    "collapsed": false,
    "ExecuteTime": {
     "end_time": "2023-09-04T07:46:59.584093Z",
     "start_time": "2023-09-04T07:46:59.578353Z"
    }
   },
   "id": "eaf92346ce127ace"
  },
  {
   "cell_type": "code",
   "execution_count": 11,
   "outputs": [],
   "source": [
    "DB_server = pymysql.connect(\n",
    "            host=host,\n",
    "            user=user,\n",
    "            passwd=password,\n",
    "            port=port,\n",
    "        )\n",
    "cursor = DB_server.cursor()"
   ],
   "metadata": {
    "collapsed": false,
    "ExecuteTime": {
     "end_time": "2023-09-04T07:46:59.965848Z",
     "start_time": "2023-09-04T07:46:59.923013Z"
    }
   },
   "id": "b45d907ff0e5b2d0"
  },
  {
   "cell_type": "code",
   "execution_count": 74,
   "outputs": [
    {
     "data": {
      "text/plain": "0"
     },
     "execution_count": 74,
     "metadata": {},
     "output_type": "execute_result"
    }
   ],
   "source": [
    "cursor.execute(f\"drop database if exists Factory;\")\n",
    "cursor.execute(f\"create database if not exists Factory;\")\n",
    "cursor.execute(f\"use Factory;\")\n",
    "cursor.execute(f\"drop table if exists Factory.Material;\")\n",
    "cursor.execute(f\"create table if not exists Factory.Material(\"\n",
    "               f\"    un_id           varchar(255)    primary key     unique,\"\n",
    "               f\"    name            varchar(255),\"\n",
    "               f\"    inventory       int,\"\n",
    "               f\"    inventory_cap   int,\"\n",
    "               f\"    cache           int,\"\n",
    "               f\"    cache_cap       int\"\n",
    "               f\");\")\n",
    "\n",
    "\n",
    "cursor.execute(f\"drop table if exists Factory.Price;\")\n",
    "cursor.execute(\n",
    "    f\"create table if not exists Factory.Price(\"\n",
    "    f\"    un_id           varchar(255),\"\n",
    "    f\"    date            datetime,\"\n",
    "    f\"    price           float\"\n",
    "    f\");\"\n",
    ")\n",
    "cursor.execute(f\"drop table if exists Factory.Producer;\")\n",
    "cursor.execute(\n",
    "    f\"create table if not exists Factory.Producer(\"\n",
    "    f\"    un_id               varchar(255),\"\n",
    "    f\"    Material_id         varchar(255),\"\n",
    "    f\"    Material_amount     int,\"\n",
    "    f\"    daily_low_cost      float,\"\n",
    "    f\"    daily_produce_cap   int\"\n",
    "    f\");\"\n",
    ")"
   ],
   "metadata": {
    "collapsed": false,
    "ExecuteTime": {
     "end_time": "2023-08-31T07:54:45.159236Z",
     "start_time": "2023-08-31T07:54:45.063662Z"
    }
   },
   "id": "ded365061c7d1ea6"
  },
  {
   "cell_type": "code",
   "execution_count": 82,
   "outputs": [
    {
     "data": {
      "text/plain": "0"
     },
     "execution_count": 82,
     "metadata": {},
     "output_type": "execute_result"
    }
   ],
   "source": [
    "cursor.execute(f\"drop table if exists Factory.Producer;\")\n",
    "cursor.execute(\n",
    "    f\"create table if not exists Factory.Producer(\"\n",
    "    f\"    un_id               varchar(255),\"\n",
    "    f\"    Material_id         varchar(255),\"\n",
    "    f\"    Material_amount     int,\"\n",
    "    f\"    daily_low_cost      float,\"\n",
    "    f\"    daily_produce_cap   int\"\n",
    "    f\");\"\n",
    ")"
   ],
   "metadata": {
    "collapsed": false,
    "ExecuteTime": {
     "end_time": "2023-09-04T02:30:25.964390Z",
     "start_time": "2023-09-04T02:30:25.905072Z"
    }
   },
   "id": "d9b2b9ef74636984"
  },
  {
   "cell_type": "markdown",
   "source": [
    "Sphinx commands"
   ],
   "metadata": {
    "collapsed": false
   },
   "id": "8970d5110601b642"
  },
  {
   "cell_type": "code",
   "execution_count": 1,
   "outputs": [],
   "source": [
    "!sphinx-apidoc -o ../documentation/source ."
   ],
   "metadata": {
    "collapsed": false,
    "ExecuteTime": {
     "end_time": "2023-09-06T02:06:03.882942Z",
     "start_time": "2023-09-06T02:06:03.053452Z"
    }
   },
   "id": "49c950c21b66c2c4"
  },
  {
   "cell_type": "markdown",
   "source": [],
   "metadata": {
    "collapsed": false
   },
   "id": "7f50691fea8fcc1c"
  },
  {
   "cell_type": "code",
   "execution_count": null,
   "outputs": [],
   "source": [],
   "metadata": {
    "collapsed": false
   },
   "id": "cf336afbfd3c01e0"
  }
 ],
 "metadata": {
  "kernelspec": {
   "display_name": "Python 3",
   "language": "python",
   "name": "python3"
  },
  "language_info": {
   "codemirror_mode": {
    "name": "ipython",
    "version": 2
   },
   "file_extension": ".py",
   "mimetype": "text/x-python",
   "name": "python",
   "nbconvert_exporter": "python",
   "pygments_lexer": "ipython2",
   "version": "2.7.6"
  }
 },
 "nbformat": 4,
 "nbformat_minor": 5
}
