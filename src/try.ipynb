{
 "cells": [
  {
   "cell_type": "code",
   "execution_count": 1,
   "outputs": [
    {
     "name": "stdout",
     "output_type": "stream",
     "text": [
      "tensor([[ 1,  7, 13, 19],\n",
      "        [ 2,  8, 14, 20],\n",
      "        [ 3,  9, 15, 21],\n",
      "        [ 4, 10, 16, 22],\n",
      "        [ 5, 11, 17, 23],\n",
      "        [ 6, 12, 18, 24]])\n"
     ]
    }
   ],
   "source": [
    "import torch\n",
    "\n",
    "# Create a 4x6 tensor\n",
    "original_tensor = torch.tensor([\n",
    "    [1, 2, 3, 4, 5, 6],\n",
    "    [7, 8, 9, 10, 11, 12],\n",
    "    [13, 14, 15, 16, 17, 18],\n",
    "    [19, 20, 21, 22, 23, 24]\n",
    "])\n",
    "\n",
    "# Transpose to get a 6x4 tensor using torch.t\n",
    "transposed_tensor = torch.t(original_tensor)\n",
    "\n",
    "# Alternatively, you can use the .t() method\n",
    "# transposed_tensor = original_tensor.t()\n",
    "\n",
    "# Print the transposed tensor\n",
    "print(transposed_tensor)"
   ],
   "metadata": {
    "collapsed": false,
    "ExecuteTime": {
     "end_time": "2023-09-18T06:48:38.535476Z",
     "start_time": "2023-09-18T06:48:37.668554Z"
    }
   },
   "id": "610e01c422caf2be"
  },
  {
   "cell_type": "code",
   "execution_count": null,
   "outputs": [],
   "source": [],
   "metadata": {
    "collapsed": false
   },
   "id": "fc411e3fb1e7fb7a"
  }
 ],
 "metadata": {
  "kernelspec": {
   "display_name": "Python 3",
   "language": "python",
   "name": "python3"
  },
  "language_info": {
   "codemirror_mode": {
    "name": "ipython",
    "version": 2
   },
   "file_extension": ".py",
   "mimetype": "text/x-python",
   "name": "python",
   "nbconvert_exporter": "python",
   "pygments_lexer": "ipython2",
   "version": "2.7.6"
  }
 },
 "nbformat": 4,
 "nbformat_minor": 5
}
