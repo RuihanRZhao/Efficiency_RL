{
 "cells": [
  {
   "cell_type": "code",
   "execution_count": 2,
   "outputs": [
    {
     "name": "stdout",
     "output_type": "stream",
     "text": [
      "<class 'int'>\n",
      "<class 'type'>\n"
     ]
    }
   ],
   "source": [
    "print(type(1))\n",
    "print(type(type(1)))"
   ],
   "metadata": {
    "collapsed": false,
    "ExecuteTime": {
     "end_time": "2023-09-04T14:10:42.620980200Z",
     "start_time": "2023-09-04T14:10:42.612980200Z"
    }
   },
   "id": "617ffbf4dbb2c5c2"
  },
  {
   "cell_type": "code",
   "execution_count": 6,
   "outputs": [
    {
     "data": {
      "text/plain": "['__add__',\n '__class__',\n '__class_getitem__',\n '__contains__',\n '__delattr__',\n '__delitem__',\n '__dir__',\n '__doc__',\n '__eq__',\n '__format__',\n '__ge__',\n '__getattribute__',\n '__getitem__',\n '__gt__',\n '__hash__',\n '__iadd__',\n '__imul__',\n '__init__',\n '__init_subclass__',\n '__iter__',\n '__le__',\n '__len__',\n '__lt__',\n '__mul__',\n '__ne__',\n '__new__',\n '__reduce__',\n '__reduce_ex__',\n '__repr__',\n '__reversed__',\n '__rmul__',\n '__setattr__',\n '__setitem__',\n '__sizeof__',\n '__str__',\n '__subclasshook__',\n 'append',\n 'clear',\n 'copy',\n 'count',\n 'extend',\n 'index',\n 'insert',\n 'pop',\n 'remove',\n 'reverse',\n 'sort']"
     },
     "execution_count": 6,
     "metadata": {},
     "output_type": "execute_result"
    }
   ],
   "source": [
    "dir([1,2,3])"
   ],
   "metadata": {
    "collapsed": false,
    "ExecuteTime": {
     "end_time": "2023-09-04T14:35:56.988300800Z",
     "start_time": "2023-09-04T14:35:56.965831800Z"
    }
   },
   "id": "3a80952267f9a514"
  },
  {
   "cell_type": "code",
   "execution_count": 2,
   "outputs": [],
   "source": [
    "import torch"
   ],
   "metadata": {
    "collapsed": false,
    "ExecuteTime": {
     "end_time": "2023-09-05T00:53:20.377833Z",
     "start_time": "2023-09-05T00:53:19.143453Z"
    }
   },
   "id": "45273cf003efadcc"
  },
  {
   "cell_type": "code",
   "execution_count": 38,
   "outputs": [],
   "source": [
    "mat_count = 11\n",
    "pro_count = 12\n",
    "mat_colum = 6\n",
    "pro_colum = 8\n",
    "matrix_size = [ mat_colum + pro_colum+1, mat_count if mat_count > pro_count else pro_count]\n",
    "# transfer list matrix into tensor\n",
    "env_tensor = torch.zeros(matrix_size)\n",
    "mat_info = [\n",
    "    [1,1,1,1,1,1],\n",
    "    [1,1,1,1,1,1],\n",
    "    [1,1,1,1,1,1],\n",
    "    [1,1,1,1,1,1],\n",
    "    [1,1,1,1,1,1],\n",
    "    [1,1,1,1,1,1],\n",
    "    [1,1,1,1,1,1],\n",
    "    [1,1,1,1,1,1],\n",
    "    [1,1,1,1,1,1],\n",
    "    [1,1,1,1,1,1],\n",
    "    [1,1,1,1,1,1],\n",
    "]\n",
    "pro_info = [\n",
    "    [2,2,2,2,2,2,2,2],\n",
    "    [2,2,2,2,2,2,2,2],\n",
    "    [2,2,2,2,2,2,2,2],\n",
    "    [2,2,2,2,2,2,2,2],\n",
    "    [2,2,2,2,2,2,2,2],\n",
    "    [2,2,2,2,2,2,2,2],\n",
    "    [2,2,2,2,2,2,2,2],\n",
    "    [2,2,2,2,2,2,2,2],\n",
    "    [2,2,2,2,2,2,2,2],\n",
    "    [2,2,2,2,2,2,2,2],\n",
    "    [2,2,2,2,2,2,2,2],\n",
    "    [2,2,2,2,2,2,2,2],\n",
    "]\n",
    "\n",
    "def write_tensor(target: torch.tensor, matrix: list[list], m_count: int, m_colum: int,start:list):\n",
    "    for m_c in range(m_count):\n",
    "        for m_l in range(m_colum):\n",
    "            target[m_l+start[0], m_c+start[1]] = matrix[m_c][m_l]\n",
    "    \n",
    "\n"
   ],
   "metadata": {
    "collapsed": false,
    "ExecuteTime": {
     "end_time": "2023-09-05T01:37:03.996360Z",
     "start_time": "2023-09-05T01:37:03.988809Z"
    }
   },
   "id": "244577a7f43d05e2"
  },
  {
   "cell_type": "code",
   "execution_count": 43,
   "outputs": [
    {
     "name": "stdout",
     "output_type": "stream",
     "text": [
      "tensor([[1., 1., 1., 1., 1., 1., 1., 1., 1., 1., 1., 0.],\n",
      "        [1., 1., 1., 1., 1., 1., 1., 1., 1., 1., 1., 0.],\n",
      "        [1., 1., 1., 1., 1., 1., 1., 1., 1., 1., 1., 0.],\n",
      "        [1., 1., 1., 1., 1., 1., 1., 1., 1., 1., 1., 0.],\n",
      "        [1., 1., 1., 1., 1., 1., 1., 1., 1., 1., 1., 0.],\n",
      "        [1., 1., 1., 1., 1., 1., 1., 1., 1., 1., 1., 0.],\n",
      "        [0., 0., 0., 0., 0., 0., 0., 0., 0., 0., 0., 0.],\n",
      "        [2., 2., 2., 2., 2., 2., 2., 2., 2., 2., 2., 2.],\n",
      "        [2., 2., 2., 2., 2., 2., 2., 2., 2., 2., 2., 2.],\n",
      "        [2., 2., 2., 2., 2., 2., 2., 2., 2., 2., 2., 2.],\n",
      "        [2., 2., 2., 2., 2., 2., 2., 2., 2., 2., 2., 2.],\n",
      "        [2., 2., 2., 2., 2., 2., 2., 2., 2., 2., 2., 2.],\n",
      "        [2., 2., 2., 2., 2., 2., 2., 2., 2., 2., 2., 2.],\n",
      "        [2., 2., 2., 2., 2., 2., 2., 2., 2., 2., 2., 2.],\n",
      "        [2., 2., 2., 2., 2., 2., 2., 2., 2., 2., 2., 2.]])\n"
     ]
    }
   ],
   "source": [
    "env_tensor = torch.zeros(matrix_size)\n",
    "write_tensor(env_tensor, mat_info, mat_count, mat_colum,[0,0])\n",
    "write_tensor(env_tensor, pro_info, pro_count, pro_colum,[mat_colum+1, 0])\n",
    "\n",
    "print(env_tensor)"
   ],
   "metadata": {
    "collapsed": false,
    "ExecuteTime": {
     "end_time": "2023-09-05T01:37:58.212599Z",
     "start_time": "2023-09-05T01:37:58.205988Z"
    }
   },
   "id": "4da614141dc8accd"
  },
  {
   "cell_type": "code",
   "execution_count": null,
   "outputs": [],
   "source": [],
   "metadata": {
    "collapsed": false
   },
   "id": "daf5de69ebafdd36"
  }
 ],
 "metadata": {
  "kernelspec": {
   "display_name": "Python 3",
   "language": "python",
   "name": "python3"
  },
  "language_info": {
   "codemirror_mode": {
    "name": "ipython",
    "version": 2
   },
   "file_extension": ".py",
   "mimetype": "text/x-python",
   "name": "python",
   "nbconvert_exporter": "python",
   "pygments_lexer": "ipython2",
   "version": "2.7.6"
  }
 },
 "nbformat": 4,
 "nbformat_minor": 5
}
