{
 "cells": [
  {
   "cell_type": "code",
   "execution_count": 2,
   "outputs": [
    {
     "name": "stdout",
     "output_type": "stream",
     "text": [
      "tensor(15)\n"
     ]
    }
   ],
   "source": [
    "import torch\n",
    "\n",
    "# Create a 4x6 tensor\n",
    "original_tensor = torch.tensor([\n",
    "    [1, 2, 3, 4, 5, 6],\n",
    "    [7, 8, 9, 10, 11, 12],\n",
    "    [13, 14, 15, 16, 17, 18],\n",
    "    [19, 20, 21, 22, 23, 24]\n",
    "])\n",
    "\n",
    "# Transpose to get a 6x4 tensor using torch.t\n",
    "transposed_tensor = torch.t(original_tensor)\n",
    "\n",
    "# Alternatively, you can use the .t() method\n",
    "# transposed_tensor = original_tensor.t()\n",
    "\n",
    "# Print the transposed tensor\n",
    "print(transposed_tensor[2,2])"
   ],
   "metadata": {
    "collapsed": false,
    "ExecuteTime": {
     "end_time": "2023-09-18T09:17:04.931653Z",
     "start_time": "2023-09-18T09:17:04.925047Z"
    }
   },
   "id": "610e01c422caf2be"
  },
  {
   "cell_type": "code",
   "execution_count": null,
   "outputs": [],
   "source": [],
   "metadata": {
    "collapsed": false
   },
   "id": "fc411e3fb1e7fb7a"
  }
 ],
 "metadata": {
  "kernelspec": {
   "display_name": "Python 3",
   "language": "python",
   "name": "python3"
  },
  "language_info": {
   "codemirror_mode": {
    "name": "ipython",
    "version": 2
   },
   "file_extension": ".py",
   "mimetype": "text/x-python",
   "name": "python",
   "nbconvert_exporter": "python",
   "pygments_lexer": "ipython2",
   "version": "2.7.6"
  }
 },
 "nbformat": 4,
 "nbformat_minor": 5
}
