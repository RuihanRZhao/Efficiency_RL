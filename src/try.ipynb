{
 "cells": [
  {
   "cell_type": "code",
   "execution_count": 1,
   "id": "initial_id",
   "metadata": {
    "collapsed": true,
    "ExecuteTime": {
     "end_time": "2023-08-29T02:03:17.275957Z",
     "start_time": "2023-08-29T02:03:17.268468Z"
    }
   },
   "outputs": [],
   "source": [
    "mydict = {\"name\": \"computer\", \"UN_ID\": \"10002\"}"
   ]
  },
  {
   "cell_type": "code",
   "execution_count": 2,
   "outputs": [
    {
     "name": "stdout",
     "output_type": "stream",
     "text": [
      "{'name': 'computer', 'UN_ID': '10002'}\n"
     ]
    }
   ],
   "source": [
    "print(mydict)"
   ],
   "metadata": {
    "collapsed": false,
    "ExecuteTime": {
     "end_time": "2023-08-29T02:03:23.882635Z",
     "start_time": "2023-08-29T02:03:23.874433Z"
    }
   },
   "id": "5b4faf1fda0d2419"
  },
  {
   "cell_type": "code",
   "execution_count": 3,
   "outputs": [
    {
     "data": {
      "text/plain": "'computer'"
     },
     "execution_count": 3,
     "metadata": {},
     "output_type": "execute_result"
    }
   ],
   "source": [
    "mydict[\"name\"]"
   ],
   "metadata": {
    "collapsed": false,
    "ExecuteTime": {
     "end_time": "2023-08-29T02:06:12.379045Z",
     "start_time": "2023-08-29T02:06:12.366912Z"
    }
   },
   "id": "e3fa9e7b9fc6c71d"
  },
  {
   "cell_type": "code",
   "execution_count": 8,
   "outputs": [
    {
     "name": "stdout",
     "output_type": "stream",
     "text": [
      "<class 'datetime.datetime'>\n"
     ]
    }
   ],
   "source": [
    "from datetime import datetime\n",
    "print(type(\n",
    "    datetime(2023,12,6,13,30,10)\n",
    "    )\n",
    ")\n"
   ],
   "metadata": {
    "collapsed": false,
    "ExecuteTime": {
     "end_time": "2023-08-29T03:18:04.779812Z",
     "start_time": "2023-08-29T03:18:04.773935Z"
    }
   },
   "id": "765f97bd077b6c7e"
  },
  {
   "cell_type": "code",
   "execution_count": 9,
   "outputs": [
    {
     "name": "stdout",
     "output_type": "stream",
     "text": [
      "Database.ipynb  \u001B[34m__pycache__\u001B[m\u001B[m     main_MP.py      \u001B[34mtorch_cuda_util\u001B[m\u001B[m try.py\r\n",
      "\u001B[34mNN_Model\u001B[m\u001B[m        \u001B[34mgame\u001B[m\u001B[m            \u001B[34mtemp\u001B[m\u001B[m            try.ipynb\r\n"
     ]
    }
   ],
   "source": [
    "!ls"
   ],
   "metadata": {
    "collapsed": false,
    "ExecuteTime": {
     "end_time": "2023-09-01T09:36:37.235125Z",
     "start_time": "2023-09-01T09:36:37.089269Z"
    }
   },
   "id": "93f7d092e20c65ba"
  },
  {
   "cell_type": "code",
   "execution_count": null,
   "outputs": [],
   "source": [],
   "metadata": {
    "collapsed": false
   },
   "id": "9abf2266bf8709e0"
  }
 ],
 "metadata": {
  "kernelspec": {
   "display_name": "Python 3",
   "language": "python",
   "name": "python3"
  },
  "language_info": {
   "codemirror_mode": {
    "name": "ipython",
    "version": 2
   },
   "file_extension": ".py",
   "mimetype": "text/x-python",
   "name": "python",
   "nbconvert_exporter": "python",
   "pygments_lexer": "ipython2",
   "version": "2.7.6"
  }
 },
 "nbformat": 4,
 "nbformat_minor": 5
}
